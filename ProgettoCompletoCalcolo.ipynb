{
  "cells": [
    {
      "cell_type": "markdown",
      "metadata": {
        "colab_type": "text",
        "id": "view-in-github"
      },
      "source": [
        "<a href=\"https://colab.research.google.com/github/ali-benny/CalcoloNumerico/blob/main/ProgettoFixCalcolo.ipynb\" target=\"_parent\"><img src=\"https://colab.research.google.com/assets/colab-badge.svg\" alt=\"Open In Colab\"/></a>"
      ]
    },
    {
      "cell_type": "markdown",
      "metadata": {
        "id": "f_Hj3qHbc5FE"
      },
      "source": [
        "# Deblur Immagini\n",
        "Il problema di deblur consiste nella ricostruzione di un immagine a partire da un dato acquisito mediante il seguente modello:\n",
        "\n",
        "\\begin{align*}\n",
        "    b = A x + \\eta\n",
        "\\end{align*}\n",
        "\n",
        "dove $b$ rappresenta l'immagine corrotta, $x$ l'immagine originale che vogliamo ricostruire, $A$ l'operatore che applica il blur Gaussiano ed $\\eta$ il rumore additivo con distribuzione Gaussiana di  media $\\mathbb{0}$ e deviazione standard $\\sigma$."
      ]
    },
    {
      "cell_type": "markdown",
      "metadata": {
        "id": "9w6c8RYzdZhi"
      },
      "source": [
        "## Funzioni di blur\n",
        "Le seguenti funzioni servono per applicare il blur di tipo gaussiano ad un'immagine.\n",
        "\n"
      ]
    },
    {
      "cell_type": "code",
      "execution_count": 13,
      "metadata": {
        "id": "KOIArYLErG_j"
      },
      "outputs": [],
      "source": [
        "import numpy as np\n",
        "import matplotlib.pyplot as plt\n",
        "from skimage import data, metrics\n",
        "from scipy import signal\n",
        "from numpy import fft\n",
        "\n",
        "# Create a Gaussian kernel of size kernlen and standard deviation sigma\n",
        "def gaussian_kernel(kernlen, sigma):\n",
        "    x = np.linspace(- (kernlen // 2), kernlen // 2, kernlen)    \n",
        "    # Unidimensional Gaussian kernel\n",
        "    kern1d = np.exp(- 0.5 * (x**2 / sigma))\n",
        "    # Bidimensional Gaussian kernel\n",
        "    kern2d = np.outer(kern1d, kern1d)\n",
        "    # Normalization\n",
        "    return kern2d / kern2d.sum()\n",
        "\n",
        "# Compute the FFT of the kernel 'K' of size 'd' padding with the zeros necessary\n",
        "# to match the size of 'shape'\n",
        "def psf_fft(K, d, shape):\n",
        "    # Zero padding\n",
        "    K_p = np.zeros(shape)\n",
        "    K_p[:d, :d] = K\n",
        "\n",
        "    # Shift\n",
        "    p = d // 2\n",
        "    K_pr = np.roll(np.roll(K_p, -p, 0), -p, 1)\n",
        "\n",
        "    # Compute FFT\n",
        "    K_otf = fft.fft2(K_pr)\n",
        "    return K_otf\n",
        "\n",
        "# Multiplication by A\n",
        "def A(x, K):\n",
        "  x = fft.fft2(x)\n",
        "  return np.real(fft.ifft2(K * x))\n",
        "\n",
        "# Multiplication by A transpose\n",
        "def AT(x, K):\n",
        "  x = fft.fft2(x)\n",
        "  return np.real(fft.ifft2(np.conj(K) * x))"
      ]
    },
    {
      "cell_type": "markdown",
      "metadata": {
        "id": "v3d1MzlRrMTZ"
      },
      "source": [
        "## Generazione dataset\n",
        "Generare un set di 8 immagini 512$\\times$512 in formato ${\\tt png}$ in scala dei grigi che contengano tra i 2 ed i 6 oggetti geometrici, di colore uniforme, su sfondo nero. \n",
        "\n",
        "\n",
        "![Immagine2.png](data:image/png;base64,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)\n"
      ]
    },
    {
      "cell_type": "code",
      "execution_count": 14,
      "metadata": {
        "colab": {
          "base_uri": "https://localhost:8080/",
          "height": 612
        },
        "id": "AJvGfP2hJ86u",
        "outputId": "c1ecac32-f272-4efa-996f-01bae6648e48"
      },
      "outputs": [
        {
          "ename": "FileNotFoundError",
          "evalue": "No such file: 'c:\\Users\\alice\\Documents\\GitHub\\CalcoloNumerico\\1.png'",
          "output_type": "error",
          "traceback": [
            "\u001b[1;31m---------------------------------------------------------------------------\u001b[0m",
            "\u001b[1;31mFileNotFoundError\u001b[0m                         Traceback (most recent call last)",
            "\u001b[1;32m~\\AppData\\Local\\Temp/ipykernel_4200/3638059212.py\u001b[0m in \u001b[0;36m<module>\u001b[1;34m\u001b[0m\n\u001b[0;32m     25\u001b[0m \u001b[1;33m\u001b[0m\u001b[0m\n\u001b[0;32m     26\u001b[0m \u001b[1;31m#una qualsiasi immagine geometrica Z\u001b[0m\u001b[1;33m\u001b[0m\u001b[1;33m\u001b[0m\u001b[0m\n\u001b[1;32m---> 27\u001b[1;33m \u001b[0mZ\u001b[0m \u001b[1;33m=\u001b[0m \u001b[0mimread\u001b[0m\u001b[1;33m(\u001b[0m\u001b[1;34m\"./1.png\"\u001b[0m\u001b[1;33m,\u001b[0m \u001b[0mas_gray\u001b[0m\u001b[1;33m=\u001b[0m\u001b[1;32mTrue\u001b[0m\u001b[1;33m)\u001b[0m\u001b[1;33m.\u001b[0m\u001b[0mastype\u001b[0m\u001b[1;33m(\u001b[0m\u001b[0mnp\u001b[0m\u001b[1;33m.\u001b[0m\u001b[0mfloat64\u001b[0m\u001b[1;33m)\u001b[0m\u001b[1;33m\u001b[0m\u001b[1;33m\u001b[0m\u001b[0m\n\u001b[0m\u001b[0;32m     28\u001b[0m \u001b[0mz\u001b[0m \u001b[1;33m=\u001b[0m \u001b[0mZ\u001b[0m\u001b[1;33m.\u001b[0m\u001b[0mreshape\u001b[0m\u001b[1;33m(\u001b[0m\u001b[0mm\u001b[0m\u001b[1;33m*\u001b[0m\u001b[0mn\u001b[0m\u001b[1;33m)\u001b[0m\u001b[1;33m\u001b[0m\u001b[1;33m\u001b[0m\u001b[0m\n\u001b[0;32m     29\u001b[0m \u001b[0mplt\u001b[0m\u001b[1;33m.\u001b[0m\u001b[0mimshow\u001b[0m\u001b[1;33m(\u001b[0m\u001b[0mZ\u001b[0m\u001b[1;33m,\u001b[0m \u001b[0mcmap\u001b[0m\u001b[1;33m=\u001b[0m\u001b[1;34m\"gray\"\u001b[0m\u001b[1;33m,\u001b[0m \u001b[0mvmin\u001b[0m\u001b[1;33m=\u001b[0m\u001b[1;36m0\u001b[0m\u001b[1;33m,\u001b[0m \u001b[0mvmax\u001b[0m\u001b[1;33m=\u001b[0m\u001b[1;36m1\u001b[0m\u001b[1;33m)\u001b[0m\u001b[1;33m\u001b[0m\u001b[1;33m\u001b[0m\u001b[0m\n",
            "\u001b[1;32m~\\AppData\\Local\\Programs\\Python\\Python310\\lib\\site-packages\\skimage\\io\\_io.py\u001b[0m in \u001b[0;36mimread\u001b[1;34m(fname, as_gray, plugin, **plugin_args)\u001b[0m\n\u001b[0;32m     46\u001b[0m \u001b[1;33m\u001b[0m\u001b[0m\n\u001b[0;32m     47\u001b[0m     \u001b[1;32mwith\u001b[0m \u001b[0mfile_or_url_context\u001b[0m\u001b[1;33m(\u001b[0m\u001b[0mfname\u001b[0m\u001b[1;33m)\u001b[0m \u001b[1;32mas\u001b[0m \u001b[0mfname\u001b[0m\u001b[1;33m:\u001b[0m\u001b[1;33m\u001b[0m\u001b[1;33m\u001b[0m\u001b[0m\n\u001b[1;32m---> 48\u001b[1;33m         \u001b[0mimg\u001b[0m \u001b[1;33m=\u001b[0m \u001b[0mcall_plugin\u001b[0m\u001b[1;33m(\u001b[0m\u001b[1;34m'imread'\u001b[0m\u001b[1;33m,\u001b[0m \u001b[0mfname\u001b[0m\u001b[1;33m,\u001b[0m \u001b[0mplugin\u001b[0m\u001b[1;33m=\u001b[0m\u001b[0mplugin\u001b[0m\u001b[1;33m,\u001b[0m \u001b[1;33m**\u001b[0m\u001b[0mplugin_args\u001b[0m\u001b[1;33m)\u001b[0m\u001b[1;33m\u001b[0m\u001b[1;33m\u001b[0m\u001b[0m\n\u001b[0m\u001b[0;32m     49\u001b[0m \u001b[1;33m\u001b[0m\u001b[0m\n\u001b[0;32m     50\u001b[0m     \u001b[1;32mif\u001b[0m \u001b[1;32mnot\u001b[0m \u001b[0mhasattr\u001b[0m\u001b[1;33m(\u001b[0m\u001b[0mimg\u001b[0m\u001b[1;33m,\u001b[0m \u001b[1;34m'ndim'\u001b[0m\u001b[1;33m)\u001b[0m\u001b[1;33m:\u001b[0m\u001b[1;33m\u001b[0m\u001b[1;33m\u001b[0m\u001b[0m\n",
            "\u001b[1;32m~\\AppData\\Local\\Programs\\Python\\Python310\\lib\\site-packages\\skimage\\io\\manage_plugins.py\u001b[0m in \u001b[0;36mcall_plugin\u001b[1;34m(kind, *args, **kwargs)\u001b[0m\n\u001b[0;32m    205\u001b[0m                                (plugin, kind))\n\u001b[0;32m    206\u001b[0m \u001b[1;33m\u001b[0m\u001b[0m\n\u001b[1;32m--> 207\u001b[1;33m     \u001b[1;32mreturn\u001b[0m \u001b[0mfunc\u001b[0m\u001b[1;33m(\u001b[0m\u001b[1;33m*\u001b[0m\u001b[0margs\u001b[0m\u001b[1;33m,\u001b[0m \u001b[1;33m**\u001b[0m\u001b[0mkwargs\u001b[0m\u001b[1;33m)\u001b[0m\u001b[1;33m\u001b[0m\u001b[1;33m\u001b[0m\u001b[0m\n\u001b[0m\u001b[0;32m    208\u001b[0m \u001b[1;33m\u001b[0m\u001b[0m\n\u001b[0;32m    209\u001b[0m \u001b[1;33m\u001b[0m\u001b[0m\n",
            "\u001b[1;32m~\\AppData\\Local\\Programs\\Python\\Python310\\lib\\site-packages\\skimage\\io\\_plugins\\imageio_plugin.py\u001b[0m in \u001b[0;36mimread\u001b[1;34m(*args, **kwargs)\u001b[0m\n\u001b[0;32m      8\u001b[0m \u001b[1;33m@\u001b[0m\u001b[0mwraps\u001b[0m\u001b[1;33m(\u001b[0m\u001b[0mimageio_imread\u001b[0m\u001b[1;33m)\u001b[0m\u001b[1;33m\u001b[0m\u001b[1;33m\u001b[0m\u001b[0m\n\u001b[0;32m      9\u001b[0m \u001b[1;32mdef\u001b[0m \u001b[0mimread\u001b[0m\u001b[1;33m(\u001b[0m\u001b[1;33m*\u001b[0m\u001b[0margs\u001b[0m\u001b[1;33m,\u001b[0m \u001b[1;33m**\u001b[0m\u001b[0mkwargs\u001b[0m\u001b[1;33m)\u001b[0m\u001b[1;33m:\u001b[0m\u001b[1;33m\u001b[0m\u001b[1;33m\u001b[0m\u001b[0m\n\u001b[1;32m---> 10\u001b[1;33m     \u001b[1;32mreturn\u001b[0m \u001b[0mnp\u001b[0m\u001b[1;33m.\u001b[0m\u001b[0masarray\u001b[0m\u001b[1;33m(\u001b[0m\u001b[0mimageio_imread\u001b[0m\u001b[1;33m(\u001b[0m\u001b[1;33m*\u001b[0m\u001b[0margs\u001b[0m\u001b[1;33m,\u001b[0m \u001b[1;33m**\u001b[0m\u001b[0mkwargs\u001b[0m\u001b[1;33m)\u001b[0m\u001b[1;33m)\u001b[0m\u001b[1;33m\u001b[0m\u001b[1;33m\u001b[0m\u001b[0m\n\u001b[0m",
            "\u001b[1;32m~\\AppData\\Local\\Programs\\Python\\Python310\\lib\\site-packages\\imageio\\core\\functions.py\u001b[0m in \u001b[0;36mimread\u001b[1;34m(uri, format, **kwargs)\u001b[0m\n\u001b[0;32m    157\u001b[0m         )\n\u001b[0;32m    158\u001b[0m \u001b[1;33m\u001b[0m\u001b[0m\n\u001b[1;32m--> 159\u001b[1;33m     \u001b[1;32mwith\u001b[0m \u001b[0mimopen\u001b[0m\u001b[1;33m(\u001b[0m\u001b[0muri\u001b[0m\u001b[1;33m,\u001b[0m \u001b[1;34m\"ri\"\u001b[0m\u001b[1;33m,\u001b[0m \u001b[0mplugin\u001b[0m\u001b[1;33m=\u001b[0m\u001b[0mformat\u001b[0m\u001b[1;33m)\u001b[0m \u001b[1;32mas\u001b[0m \u001b[0mfile\u001b[0m\u001b[1;33m:\u001b[0m\u001b[1;33m\u001b[0m\u001b[1;33m\u001b[0m\u001b[0m\n\u001b[0m\u001b[0;32m    160\u001b[0m         \u001b[1;32mreturn\u001b[0m \u001b[0mfile\u001b[0m\u001b[1;33m.\u001b[0m\u001b[0mread\u001b[0m\u001b[1;33m(\u001b[0m\u001b[0mindex\u001b[0m\u001b[1;33m=\u001b[0m\u001b[1;36m0\u001b[0m\u001b[1;33m,\u001b[0m \u001b[1;33m**\u001b[0m\u001b[0mkwargs\u001b[0m\u001b[1;33m)\u001b[0m\u001b[1;33m\u001b[0m\u001b[1;33m\u001b[0m\u001b[0m\n\u001b[0;32m    161\u001b[0m \u001b[1;33m\u001b[0m\u001b[0m\n",
            "\u001b[1;32m~\\AppData\\Local\\Programs\\Python\\Python310\\lib\\site-packages\\imageio\\core\\imopen.py\u001b[0m in \u001b[0;36mimopen\u001b[1;34m(uri, io_mode, plugin, legacy_mode, **kwargs)\u001b[0m\n\u001b[0;32m    135\u001b[0m         \u001b[0mio_mode\u001b[0m \u001b[1;33m=\u001b[0m \u001b[0mrequest\u001b[0m\u001b[1;33m.\u001b[0m\u001b[0mmode\u001b[0m\u001b[1;33m.\u001b[0m\u001b[0mio_mode\u001b[0m\u001b[1;33m\u001b[0m\u001b[1;33m\u001b[0m\u001b[0m\n\u001b[0;32m    136\u001b[0m     \u001b[1;32melse\u001b[0m\u001b[1;33m:\u001b[0m\u001b[1;33m\u001b[0m\u001b[1;33m\u001b[0m\u001b[0m\n\u001b[1;32m--> 137\u001b[1;33m         \u001b[0mrequest\u001b[0m \u001b[1;33m=\u001b[0m \u001b[0mRequest\u001b[0m\u001b[1;33m(\u001b[0m\u001b[0muri\u001b[0m\u001b[1;33m,\u001b[0m \u001b[0mio_mode\u001b[0m\u001b[1;33m)\u001b[0m\u001b[1;33m\u001b[0m\u001b[1;33m\u001b[0m\u001b[0m\n\u001b[0m\u001b[0;32m    138\u001b[0m \u001b[1;33m\u001b[0m\u001b[0m\n\u001b[0;32m    139\u001b[0m     \u001b[1;31m# plugin specified, no search needed\u001b[0m\u001b[1;33m\u001b[0m\u001b[1;33m\u001b[0m\u001b[0m\n",
            "\u001b[1;32m~\\AppData\\Local\\Programs\\Python\\Python310\\lib\\site-packages\\imageio\\core\\request.py\u001b[0m in \u001b[0;36m__init__\u001b[1;34m(self, uri, mode, **kwargs)\u001b[0m\n\u001b[0;32m    243\u001b[0m \u001b[1;33m\u001b[0m\u001b[0m\n\u001b[0;32m    244\u001b[0m         \u001b[1;31m# Parse what was given\u001b[0m\u001b[1;33m\u001b[0m\u001b[1;33m\u001b[0m\u001b[0m\n\u001b[1;32m--> 245\u001b[1;33m         \u001b[0mself\u001b[0m\u001b[1;33m.\u001b[0m\u001b[0m_parse_uri\u001b[0m\u001b[1;33m(\u001b[0m\u001b[0muri\u001b[0m\u001b[1;33m)\u001b[0m\u001b[1;33m\u001b[0m\u001b[1;33m\u001b[0m\u001b[0m\n\u001b[0m\u001b[0;32m    246\u001b[0m \u001b[1;33m\u001b[0m\u001b[0m\n\u001b[0;32m    247\u001b[0m         \u001b[1;31m# Set extension\u001b[0m\u001b[1;33m\u001b[0m\u001b[1;33m\u001b[0m\u001b[0m\n",
            "\u001b[1;32m~\\AppData\\Local\\Programs\\Python\\Python310\\lib\\site-packages\\imageio\\core\\request.py\u001b[0m in \u001b[0;36m_parse_uri\u001b[1;34m(self, uri)\u001b[0m\n\u001b[0;32m    381\u001b[0m                 \u001b[1;31m# Reading: check that the file exists (but is allowed a dir)\u001b[0m\u001b[1;33m\u001b[0m\u001b[1;33m\u001b[0m\u001b[0m\n\u001b[0;32m    382\u001b[0m                 \u001b[1;32mif\u001b[0m \u001b[1;32mnot\u001b[0m \u001b[0mos\u001b[0m\u001b[1;33m.\u001b[0m\u001b[0mpath\u001b[0m\u001b[1;33m.\u001b[0m\u001b[0mexists\u001b[0m\u001b[1;33m(\u001b[0m\u001b[0mfn\u001b[0m\u001b[1;33m)\u001b[0m\u001b[1;33m:\u001b[0m\u001b[1;33m\u001b[0m\u001b[1;33m\u001b[0m\u001b[0m\n\u001b[1;32m--> 383\u001b[1;33m                     \u001b[1;32mraise\u001b[0m \u001b[0mFileNotFoundError\u001b[0m\u001b[1;33m(\u001b[0m\u001b[1;34m\"No such file: '%s'\"\u001b[0m \u001b[1;33m%\u001b[0m \u001b[0mfn\u001b[0m\u001b[1;33m)\u001b[0m\u001b[1;33m\u001b[0m\u001b[1;33m\u001b[0m\u001b[0m\n\u001b[0m\u001b[0;32m    384\u001b[0m             \u001b[1;32melse\u001b[0m\u001b[1;33m:\u001b[0m\u001b[1;33m\u001b[0m\u001b[1;33m\u001b[0m\u001b[0m\n\u001b[0;32m    385\u001b[0m                 \u001b[1;31m# Writing: check that the directory to write to does exist\u001b[0m\u001b[1;33m\u001b[0m\u001b[1;33m\u001b[0m\u001b[0m\n",
            "\u001b[1;31mFileNotFoundError\u001b[0m: No such file: 'c:\\Users\\alice\\Documents\\GitHub\\CalcoloNumerico\\1.png'"
          ]
        }
      ],
      "source": [
        "from skimage.io import imread\n",
        "from skimage import data\n",
        "X = data.camera().astype(np.float64) / 255.0\n",
        "\n",
        "m, n = X.shape\n",
        "x = X.reshape(m*n)\n",
        "\n",
        "#dichiarazione variabili immagini geometriche\n",
        "AA = imread(\"./img/img1.png\", as_gray=True).astype(np.float64)\n",
        "aa = AA.reshape(m*n)\n",
        "BB = imread(\"./img/img2.png\", as_gray=True).astype(np.float64)\n",
        "bb = BB.reshape(m*n)\n",
        "CC = imread(\"./img/img3.png\", as_gray=True).astype(np.float64)\n",
        "cc = CC.reshape(m*n)\n",
        "DD = imread(\"./img/img4.png\", as_gray=True).astype(np.float64)\n",
        "dd = DD.reshape(m*n)\n",
        "EE = imread(\"./img/img5.png\", as_gray=True).astype(np.float64)\n",
        "ee = EE.reshape(m*n)\n",
        "FF = imread(\"./img/img6.png\", as_gray=True).astype(np.float64)\n",
        "ff = FF.reshape(m*n)\n",
        "GG = imread(\"./img/img7.png\", as_gray=True).astype(np.float64)\n",
        "gg = GG.reshape(m*n)\n",
        "HH = imread(\"./img/img8.png\", as_gray=True).astype(np.float64)\n",
        "hh = HH.reshape(m*n)\n",
        "\n",
        "#una qualsiasi immagine geometrica Z\n",
        "Z = imread(\"./1.png\", as_gray=True).astype(np.float64)\n",
        "z = Z.reshape(m*n)\n",
        "plt.imshow(Z, cmap=\"gray\", vmin=0, vmax=1)\n",
        "\n",
        "#dichiarazione lista immagini geometriche\n",
        "alfabeto = [AA, BB, CC, DD, EE, FF, GG, HH]     # X per data.camera()\n",
        "\n",
        "#stampa di tutte le immagini originali\n",
        "plt.figure(figsize=(30, 20))\n",
        "i=0\n",
        "while i<=len(alfabeto):\n",
        "    if i==0:\n",
        "        plt.subplot(3, 3, 1).imshow(X, cmap=\"gray\")\n",
        "        plt.title('Immagine Originale data.camera()')\n",
        "        i+=1\n",
        "    else:\n",
        "        plt.subplot(3, 3, i+1).imshow(alfabeto[i-1], cmap='gray')\n",
        "        plt.title(f'Immagine Originale img{i}')\n",
        "        i+=1\n"
      ]
    },
    {
      "cell_type": "markdown",
      "metadata": {
        "id": "P7kctNn96hRu"
      },
      "source": [
        "## 1) Generazione immagini corrotte\n",
        "Degradare le immagini applicando, mediante le funzioni riportate nella cella precedente,  l'operatore di blur con parametri\n",
        "\n",
        "+ $\\sigma=0.5$ dimensione $5\\times 5$\n",
        "+ $\\sigma=1$ dimensione $7\\times 7$\n",
        "+ $\\sigma=1.3$ dimensione $9\\times 9$\n",
        "\n",
        "ed aggiungendo rumore gaussiano con deviazione standard $(0,0.05]$"
      ]
    },
    {
      "cell_type": "code",
      "execution_count": null,
      "metadata": {
        "colab": {
          "base_uri": "https://localhost:8080/",
          "height": 508
        },
        "id": "ZuDOVXt_rtSl",
        "outputId": "a1e6754b-da06-4218-ef81-4e0fcbb6525e"
      },
      "outputs": [],
      "source": [
        "K = psf_fft(gaussian_kernel(9, 1.3), 9, X.shape)\n",
        "std_dev = 0.02\n",
        "noise = np.random.normal(size=X.shape)*std_dev\n",
        "\n",
        "X_blur = A(X, K)\n",
        "x_blur = X_blur.reshape(m*n)\n",
        "\n",
        "B = X_blur + noise\n",
        "b = B.reshape(m*n)\n",
        "\n",
        "# una qualsiasi immagine geometrica Z\n",
        "Z_blur = A(Z, K)\n",
        "z_blur = Z_blur.reshape(m*n)\n",
        "ZB = Z_blur + noise\n",
        "zB = ZB.reshape(m*n)\n",
        "PSNR = metrics.peak_signal_noise_ratio(Z, ZB)\n",
        "\n",
        "#Maggiore è il valore del PSNR maggiore è la \"somiglianza\" con l'immagine originale,\n",
        "#nel senso che si “avvicina” maggiormente ad essa da un punto di vista percettivo umano.\n",
        "# => PSNR(X,X)=inf\n",
        "PSNR = metrics.peak_signal_noise_ratio(X, B)\n",
        "\n",
        "#blur delle immagini img1-8.png e relativi PSNR\n",
        "AA_blur = A(AA, K) + noise\n",
        "aa_blur = AA_blur.reshape(m*n)\n",
        "PSNR_AA = metrics.peak_signal_noise_ratio(AA,AA_blur)\n",
        "\n",
        "BB_blur = A(BB, K) + noise\n",
        "bb_blur = BB_blur.reshape(m*n)\n",
        "PSNR_BB = metrics.peak_signal_noise_ratio(BB,BB_blur)\n",
        "\n",
        "CC_blur = A(CC,K) + noise\n",
        "cc_blur = CC_blur.reshape(m*n)\n",
        "PSNR_CC = metrics.peak_signal_noise_ratio(CC,CC_blur)\n",
        "\n",
        "DD_blur = A(DD,K) + noise\n",
        "dd_blur = DD_blur.reshape(m*n)\n",
        "PSNR_DD = metrics.peak_signal_noise_ratio(DD,DD_blur)\n",
        "\n",
        "EE_blur = A(EE,K) + noise\n",
        "ee_blur = EE_blur.reshape(m*n)\n",
        "PSNR_EE = metrics.peak_signal_noise_ratio(EE,EE_blur)\n",
        "\n",
        "FF_blur = A(FF,K) + noise\n",
        "ff_blur = FF_blur.reshape(m*n)\n",
        "PSNR_FF = metrics.peak_signal_noise_ratio(FF,FF_blur)\n",
        "\n",
        "GG_blur = A(GG,K) + noise\n",
        "gg_blur = GG_blur.reshape(m*n)\n",
        "PSNR_GG = metrics.peak_signal_noise_ratio(GG,GG_blur)\n",
        "\n",
        "HH_blur = A(HH,K) + noise\n",
        "hh_blur = HH_blur.reshape(m*n)\n",
        "PSNR_HH = metrics.peak_signal_noise_ratio(HH,HH_blur)\n",
        "\n",
        "#dichiarazione liste immagini geometriche (escludo data.camera())\n",
        "alfabetoblur = [AA_blur, BB_blur, CC_blur, DD_blur, EE_blur, FF_blur, GG_blur, HH_blur]     # B per data.camera()\n",
        "xx = [aa_blur, bb_blur, cc_blur, dd_blur, ee_blur, ff_blur, gg_blur, hh_blur]       # b per data.camera()\n",
        "psnralfabeto = [PSNR_AA, PSNR_BB, PSNR_CC, PSNR_DD, PSNR_EE, PSNR_FF, PSNR_GG, PSNR_HH]\n",
        "\n",
        "#stampa delle immagini originali e corrotte con subplot\n",
        "plt.figure(figsize=(40, 10))\n",
        "i=0\n",
        "plot=1\n",
        "while plot<=2*len(alfabeto)+2:      # +2 perche' devo includere il caso data.camera()\n",
        "    if plot==1:\n",
        "        plt.subplot(2, 9, plot).imshow(X, cmap='gray', vmin=0, vmax=1)\n",
        "        plt.title('Immagine Originale data.camera()')\n",
        "        i+=1\n",
        "        plot+=1\n",
        "    elif plot==10:\n",
        "        plt.subplot(2, 9, plot).imshow(B, cmap='gray', vmin=0, vmax=1)\n",
        "        plt.title(f'Immagine Corrotta data.camera() (PSNR: {PSNR:.2f})')\n",
        "        i=1\n",
        "        plot+=1\n",
        "    elif plot<10:\n",
        "        plt.subplot(2,9,plot).imshow(alfabeto[i-1], cmap='gray')\n",
        "        plt.title(f'Immagine Originale img{i}')\n",
        "        i+=1\n",
        "        plot+=1\n",
        "    elif plot>10 :\n",
        "        plt.subplot(2,9,plot).imshow(alfabetoblur[i-1], cmap='gray')\n",
        "        plt.title(f'Immagine Corrotta img{i} (PSNR: {psnralfabeto[i-1]:.2f})')\n",
        "        plot+=1\n",
        "        i+=1\n",
        "plt.show()\n"
      ]
    },
    {
      "cell_type": "markdown",
      "metadata": {
        "id": "AH2hxljMrs05"
      },
      "source": [
        "## 2) Soluzione naive\n",
        "\n",
        "Una possibile ricostruzione dell'immagine originale $x$ partendo dall'immagine corrotta $b$ è la soluzione naive data dal minimo del seguente problema di ottimizzazione:\n",
        "\\begin{align}\n",
        "  x^* = \\arg\\min_x \\frac{1}{2} ||Ax - b||_2^2\n",
        "\\end{align}\n",
        "\n",
        "La funzione $f$ da minimizzare è data dalla formula\n",
        "  $f(x) = \\frac{1}{2} ||Ax - b||_2^2 $, il cui gradiente $\\nabla f$ è dato da\n",
        "$\\nabla f(x) = A^TAx - A^Tb  $.\n",
        "\n",
        "Utilizzando il metodo del gradiente coniugato implementato dalla funzione `minimize` calcolare la soluzione naive. "
      ]
    },
    {
      "cell_type": "code",
      "execution_count": 12,
      "metadata": {
        "colab": {
          "base_uri": "https://localhost:8080/",
          "height": 711
        },
        "id": "NE1-Z7AcrnUl",
        "outputId": "8952a15a-7ca7-4b60-8a18-91cdbde6155f"
      },
      "outputs": [
        {
          "ename": "NameError",
          "evalue": "name 'b' is not defined",
          "output_type": "error",
          "traceback": [
            "\u001b[1;31m---------------------------------------------------------------------------\u001b[0m",
            "\u001b[1;31mNameError\u001b[0m                                 Traceback (most recent call last)",
            "\u001b[1;32m~\\AppData\\Local\\Temp/ipykernel_4200/649596552.py\u001b[0m in \u001b[0;36m<module>\u001b[1;34m\u001b[0m\n\u001b[0;32m     14\u001b[0m \u001b[0mfunc\u001b[0m \u001b[1;33m=\u001b[0m \u001b[1;32mlambda\u001b[0m \u001b[0mx\u001b[0m\u001b[1;33m:\u001b[0m \u001b[0mf\u001b[0m\u001b[1;33m(\u001b[0m\u001b[0mx\u001b[0m\u001b[1;33m,\u001b[0m \u001b[0mB\u001b[0m\u001b[1;33m)\u001b[0m \u001b[1;31m#o exec\u001b[0m\u001b[1;33m\u001b[0m\u001b[1;33m\u001b[0m\u001b[0m\n\u001b[0;32m     15\u001b[0m \u001b[0mgrad_func\u001b[0m \u001b[1;33m=\u001b[0m \u001b[1;32mlambda\u001b[0m \u001b[0mx\u001b[0m\u001b[1;33m:\u001b[0m \u001b[0mdf\u001b[0m\u001b[1;33m(\u001b[0m\u001b[0mx\u001b[0m\u001b[1;33m,\u001b[0m \u001b[0mB\u001b[0m\u001b[1;33m)\u001b[0m\u001b[1;33m\u001b[0m\u001b[1;33m\u001b[0m\u001b[0m\n\u001b[1;32m---> 16\u001b[1;33m \u001b[0mres\u001b[0m \u001b[1;33m=\u001b[0m \u001b[0mminimize\u001b[0m\u001b[1;33m(\u001b[0m\u001b[0mfunc\u001b[0m\u001b[1;33m,\u001b[0m \u001b[0mnp\u001b[0m\u001b[1;33m.\u001b[0m\u001b[0mzeros\u001b[0m\u001b[1;33m(\u001b[0m\u001b[0mb\u001b[0m\u001b[1;33m.\u001b[0m\u001b[0mshape\u001b[0m\u001b[1;33m)\u001b[0m\u001b[1;33m,\u001b[0m \u001b[0mmethod\u001b[0m\u001b[1;33m=\u001b[0m\u001b[1;34m\"CG\"\u001b[0m\u001b[1;33m,\u001b[0m \u001b[0mjac\u001b[0m\u001b[1;33m=\u001b[0m\u001b[0mgrad_func\u001b[0m\u001b[1;33m,\u001b[0m \u001b[0moptions\u001b[0m\u001b[1;33m=\u001b[0m\u001b[1;33m{\u001b[0m\u001b[1;34m'disp'\u001b[0m\u001b[1;33m:\u001b[0m \u001b[1;32mTrue\u001b[0m\u001b[1;33m,\u001b[0m \u001b[1;34m'maxiter'\u001b[0m\u001b[1;33m:\u001b[0m\u001b[1;36m6\u001b[0m\u001b[1;33m}\u001b[0m\u001b[1;33m)\u001b[0m\u001b[1;33m\u001b[0m\u001b[1;33m\u001b[0m\u001b[0m\n\u001b[0m\u001b[0;32m     17\u001b[0m \u001b[0mRES\u001b[0m \u001b[1;33m=\u001b[0m \u001b[0mres\u001b[0m\u001b[1;33m.\u001b[0m\u001b[0mx\u001b[0m\u001b[1;33m.\u001b[0m\u001b[0mreshape\u001b[0m\u001b[1;33m(\u001b[0m\u001b[0mm\u001b[0m\u001b[1;33m,\u001b[0m\u001b[0mn\u001b[0m\u001b[1;33m)\u001b[0m\u001b[1;33m\u001b[0m\u001b[1;33m\u001b[0m\u001b[0m\n\u001b[0;32m     18\u001b[0m \u001b[1;33m\u001b[0m\u001b[0m\n",
            "\u001b[1;31mNameError\u001b[0m: name 'b' is not defined"
          ]
        },
        {
          "data": {
            "text/plain": [
              "<Figure size 1440x1080 with 0 Axes>"
            ]
          },
          "metadata": {},
          "output_type": "display_data"
        }
      ],
      "source": [
        "from scipy.optimize import minimize\n",
        "def f(x, B, labda = 0):\n",
        "  X = x.reshape(m,n)\n",
        "  res = 0.5*(np.linalg.norm(A(X, K)-B))**2 + 0.5*labda*(np.linalg.norm(X))**2\n",
        "  return np.sum(res)\n",
        "def df(x, B, labda=0):\n",
        "  X = x.reshape(m,n)\n",
        "  res = AT(A(X, K)-B, K) + labda*X\n",
        "  RES = np.reshape(res, m*n)\n",
        "  return RES\n",
        "\n",
        "#stampa immagine data.camera()\n",
        "plt.figure(figsize=(20,15))\n",
        "func = lambda x: f(x, B) #o exec \n",
        "grad_func = lambda x: df(x, B)\n",
        "res = minimize(func, np.zeros(b.shape), method=\"CG\", jac=grad_func, options={'disp': True, 'maxiter':3})\n",
        "RES = res.x.reshape(m,n)\n",
        "\n",
        "PSNR = metrics.peak_signal_noise_ratio(X, RES) #alfabeto[4] solo lettere\n",
        "plt.title(f'Ripristinata con metodo gradiente coniugato (PSNR: {PSNR})')\n",
        "plt.imshow(RES, cmap=\"gray\", vmin=0, vmax=1)"
      ]
    },
    {
      "cell_type": "code",
      "execution_count": null,
      "metadata": {},
      "outputs": [],
      "source": [
        "#! stampa delle immagini geometriche\n",
        "plt.figure(figsize=(60, 15))\n",
        "i=0\n",
        "plot=1\n",
        "while plot<=2*len(alfabeto):\n",
        "  \n",
        "    if plot<=8:\n",
        "        plt.subplot(2,8,plot).imshow(alfabeto[i], cmap='gray')\n",
        "        plt.title(f'Immagine Originale img{i+1}')\n",
        "        i+=1\n",
        "        plot+=1\n",
        "    else:\n",
        "        if plot==9:\n",
        "            i=0\n",
        "        func = lambda x: f(x, alfabetoblur[i]) #o exec \n",
        "        grad_func = lambda x: df(x, alfabetoblur[i])\n",
        "        xxzeros = xx[i]\n",
        "        res = minimize(func, np.zeros(xxzeros.shape), method=\"CG\", jac=grad_func, options={'disp': True, 'maxiter':3})\n",
        "        RES = res.x.reshape(m,n)\n",
        "        PSNR = metrics.peak_signal_noise_ratio(alfabeto[i], RES)\n",
        "        plt.subplot(2, 8, plot).imshow(RES, cmap=\"gray\", vmin=0, vmax=1)\n",
        "        plt.title(f'img{i+1} ripristinata con metodo gradiente coniugato (PSNR: {PSNR:.2f})')\n",
        "\n",
        "        plot+=1\n",
        "        i+=1\n",
        "plt.show()"
      ]
    },
    {
      "cell_type": "code",
      "execution_count": null,
      "metadata": {
        "colab": {
          "base_uri": "https://localhost:8080/",
          "height": 624
        },
        "id": "RI-M8oPiaETS",
        "outputId": "89dfe325-9845-4724-e4a6-fbd9df8a0238"
      },
      "outputs": [],
      "source": [
        "def next_step(x, grad, B, labda = 0): # backtracking procedure for the choice of the steplength\n",
        "  alpha=1.1\n",
        "  c1 = 0.25\n",
        "  p=-grad\n",
        "  j=0\n",
        "  jmax=10\n",
        "  #condizioni che servono per soddisfare dei criteri di convergenza - condizioni di Wolfe\n",
        "  while ((f(x + alpha*p, B, labda) > f(x, B, labda)+c1*alpha*grad.T@p) and j<jmax):\n",
        "    alpha = alpha*0.5\n",
        "    j+=1\n",
        "  return alpha\n",
        "\n",
        "def gradient_minimize(B, labda= 0, maxit=10, abstop = 1.e-6):\n",
        "  x_last =np.zeros(m*n)\n",
        "  k = 0\n",
        "  while (np.linalg.norm(df(x_last, B, labda))>abstop and k < maxit):\n",
        "    k=k+1\n",
        "    grad = df(x_last, B, labda)\n",
        "    step = next_step(x_last, grad, B, labda)\n",
        "    x_last=x_last-step*grad\n",
        "  return x_last\n",
        "\n",
        "z_naive = gradient_minimize(B)\n",
        "PSNR = metrics.peak_signal_noise_ratio(X, z_naive.reshape(m,n))#cambiare anche qui ogni volta nome immagine originale\n",
        "plt.figure(figsize=(30,10))\n",
        "plt.title(f'Ripristinata con metodo gradiente (PSNR: {PSNR})')\n",
        "plt.imshow(z_naive.reshape(m,n), cmap=\"gray\")"
      ]
    },
    {
      "cell_type": "code",
      "execution_count": null,
      "metadata": {},
      "outputs": [],
      "source": [
        "#! stampa delle immagini geometrich\n",
        "plt.figure(figsize=(60, 15))\n",
        "i=0\n",
        "plot=1\n",
        "while plot<=2*len(alfabeto):\n",
        "  \n",
        "    if plot<=8:\n",
        "        plt.subplot(2,8, plot).imshow(alfabeto[i], cmap='gray')\n",
        "        plt.title(f'Immagine Originale img{i+1}')\n",
        "        i+=1\n",
        "        plot+=1\n",
        "    else:\n",
        "        if plot==9:\n",
        "            i=0\n",
        "        a_naive = gradient_minimize(alfabetoblur[i])\n",
        "        PSNR = metrics.peak_signal_noise_ratio(alfabeto[i], a_naive.reshape(m,n))#cambiare anche qui ogni volta nome immagine originale\n",
        "        \n",
        "        i+=1\n",
        "        plt.subplot(2, 8, plot).imshow(a_naive.reshape(m,n), cmap=\"gray\")\n",
        "        plt.title(f'img{i} ripristinata con metodo gradiente (PSNR: {PSNR})')\n",
        "        plot+=1\n",
        "plt.show()"
      ]
    },
    {
      "cell_type": "markdown",
      "metadata": {
        "id": "yoTaMhHeSmYa"
      },
      "source": [
        "## 3) Regolarizzazione\n",
        "Per ridurre gli effetti del rumore nella ricostruzione è necessario introdurre un termine di regolarizzazione di Tikhonov. Si considera quindi il seguente problema di ottimizzazione.\n",
        "\\begin{align*}\n",
        "  x^* = \\arg\\min_x \\frac{1}{2} ||Ax - b||_2^2 + \\frac{\\lambda}{2} ||x||_2^2\n",
        "\\end{align*}\n",
        "\n",
        "La funzione $f$ da minimizzare diventa\n",
        "$f(x) = \\frac{1}{2} ||Ax - b||_2^2 + \\frac{\\lambda}{2} ||x||_2^2$\n",
        "il cui gradiente $\\nabla f$ è dato da\n",
        "$\\nabla f(x) = A^TAx - A^Tb + λx$.\n",
        "\n",
        "Utilizzando il metodo del gradiente coniugato implementato dalla funzione `minimize` ed il metodo del gradiente implementato a lezione, calcolare la soluzione del precendente problema di minimo regolarizzato per differenti valori di $\\lambda$. "
      ]
    },
    {
      "cell_type": "code",
      "execution_count": null,
      "metadata": {
        "colab": {
          "base_uri": "https://localhost:8080/"
        },
        "id": "zWrihPW7b7SN",
        "outputId": "223f937a-1bb7-4220-c7fd-24b511117be5"
      },
      "outputs": [],
      "source": [
        "labda = list(np.linspace(1e-5, 1e-1, 100))\n",
        "for i in range(17): \n",
        "  func = lambda x: f(x, B, labda[i])\n",
        "  grad_func = lambda x: df(x, B, labda[i])\n",
        "  res = minimize(func, np.zeros(b.shape), method=\"CG\", jac=grad_func, options={'disp': True, 'maxiter':3})\n",
        "  RES = res.x.reshape(m,n)\n",
        "\n",
        "  PSNR = metrics.peak_signal_noise_ratio(X, RES)\n",
        "  print(f'lambda: {labda[i]} PSNR: {PSNR:.2f}')\n"
      ]
    },
    {
      "cell_type": "code",
      "execution_count": null,
      "metadata": {},
      "outputs": [],
      "source": [
        "#! stampa per immagini geometriche\n",
        "alp=0\n",
        "while alp<len(alfabetoblur):\n",
        "  for i in range(17):             \n",
        "    func = lambda x: f(x, alfabetoblur[alp], labda[i])\n",
        "    grad_func = lambda x: df(x, alfabetoblur[alp], labda[i])\n",
        "    res = minimize(func, np.zeros(xx[alp].shape), method=\"CG\", jac=grad_func, options={'disp': True, 'maxiter':3})\n",
        "    RES = res.x.reshape(m,n)\n",
        "    \n",
        "    PSNR = metrics.peak_signal_noise_ratio(alfabeto[alp], RES)\n",
        "    print(f'img{alp} -> lambda: {labda[i]} PSNR: {PSNR:.2f}')\n",
        "  alp+=1"
      ]
    },
    {
      "cell_type": "code",
      "execution_count": null,
      "metadata": {
        "id": "31cymq3GNm6s"
      },
      "outputs": [],
      "source": [
        "labda = list(np.linspace(1e-7, 1e-4, 100))\n",
        "for i in range(17):\n",
        "  z_tikhonov = gradient_minimize(B, labda[i])\n",
        "  PSNR = metrics.peak_signal_noise_ratio(X, z_tikhonov.reshape(m,n))\n",
        "  print(f'lambda: {labda[i]} PSNR: {PSNR}')"
      ]
    },
    {
      "cell_type": "code",
      "execution_count": null,
      "metadata": {},
      "outputs": [],
      "source": [
        "#! stampa immagini geometriche ripristinate\n",
        "alp=0\n",
        "while alp<len(alfabetoblur):\n",
        "  for i in range(17):\n",
        "    z_tikhonov = gradient_minimize(alfabetoblur[alp], labda[i])\n",
        "    PSNR = metrics.peak_signal_noise_ratio(alfabeto[alp], z_tikhonov.reshape(m,n))\n",
        "    \n",
        "    if alp==0:\n",
        "      print(f'data.camera() -> lambda: {labda[i]} PSNR: {PSNR}')\n",
        "    else:\n",
        "      print(f'img{alp} -> lambda: {labda[i]} PSNR: {PSNR}')\n",
        "  alp+=1"
      ]
    },
    {
      "cell_type": "markdown",
      "metadata": {
        "id": "_aCu4wdBS5OF"
      },
      "source": [
        "## 4) Variazione Totale (Facoltativo) \n",
        "\n",
        "Un altra funzione adatta come termine di regolarizzazione è la Variazione Totale. Data $u$ immagine di dimensioni $m\\times n$ la variazione totale $TV$ di $u$ è definit come:\n",
        "\\begin{align*}\n",
        "  TV(u) = \\sum_i^n{\\sum_j^m{\\sqrt{||\\nabla u(i, j)||_2^2 + \\epsilon^2}}}\n",
        "\\end{align*}\n",
        "Per calcolare il gradiente dell'immagine $\\nabla u$ usiamo la funzione `np.gradient` che approssima la derivata per ogni pixel calcolando la differenza tra pixel adiacenti. I risultati sono due immagini della stessa dimensione dell'immagine in input, una che rappresenta il valore della derivata orizzontale `dx` e l'altra della derivata verticale `dy`. Il gradiente dell'immagine nel punto $(i, j)$ è quindi un vettore di due componenti, uno orizzontale contenuto in `dx` e uno verticale in `dy`.\n",
        "\n",
        "Come nei casi precedenti il problema di minimo che si va a risolvere è il seguente:\n",
        "\\begin{align*}\n",
        "  x^* = \\arg\\min_x \\frac{1}{2} ||Ax - b||_2^2 + \\lambda TV(u)\n",
        "\\end{align*}\n",
        "il cui gradiente $\\nabla f$ è dato da\n",
        "\\begin{align*}\n",
        "\\nabla f(x) = (A^TAx - A^Tb)  + \\lambda \\nabla TV(x)\n",
        "\\end{align*}\n",
        "\n",
        "Utilizzando il metodo del gradiente implementato a lezione, calcolare la soluzione del precendente problema di minimo regolarizzato per differenti valori di $\\lambda$. \n",
        "\n",
        "\n",
        "---\n",
        "Per risolvere il problema di minimo è necessario anche calcolare il gradiente della variazione totale che è definito nel modo seguente\n",
        "\\begin{align*}\n",
        "  \\nabla TV(u) = -div\\left(\\frac{\\nabla u}{\\sqrt{||\\nabla u||_2^2 + \\epsilon^2}}\\right)\n",
        "\\end{align*}\n",
        "\n",
        "\\begin{align*}\n",
        "  div(F) = \\frac{\\partial F_x}{\\partial x} + \\frac{\\partial F_y}{\\partial y}\n",
        "\\end{align*}\n",
        "\n",
        "$div(F)$ è la divergenza del campo vettoriale $F$, nel nostro caso $F$ ha due componenti dati dal gradiente dell'immagine $\\nabla u$ scalato per il valore $ \\frac{1}{\\sqrt{||\\nabla u||_2^2 + \\epsilon^2}}$. Per calcolare la divergenza bisogna calcolare la derivata orizzontale $\\frac{\\partial F_x}{\\partial x}$ della componente $x$ di $F$ e sommarla alla derivata verticale $\\frac{\\partial F_y}{\\partial y}$ della componente $y$ di $F$. Per specificare in quale direzione calcolare la derivata con la funzione `np.gradient` utilizziamo il parametro `axis = 0` per l'orizzontale e `axis = 1` per la verticale."
      ]
    },
    {
      "cell_type": "code",
      "execution_count": null,
      "metadata": {
        "id": "mEFmmcOzeabY"
      },
      "outputs": [],
      "source": [
        "eps = 1e-2\n",
        "\n",
        "# Variazione totale\n",
        "def totvar(x):\n",
        "  # Calcola il gradiente di x\n",
        "  dx, dy = np.gradient(x)\n",
        "  n2 = np.square(dx) + np.square(dy)\n",
        "\n",
        "  # Calcola la variazione totale di x\n",
        "  tv = np.sqrt(n2 + eps**2).sum()\n",
        "  return tv\n",
        "\n",
        "# Gradiente della variazione totale\n",
        "def grad_totvar(x):\n",
        "  # Calcola il numeratore della frazione\n",
        "  dx, dy = np.gradient(x)\n",
        "\n",
        "  # Calcola il denominatore della frazione\n",
        "  n2 = np.square(dx) + np.square(dy)\n",
        "  den = np.sqrt(n2 + eps**2)\n",
        "\n",
        "  # Calcola le due componenti di F dividendo il gradiente per il denominatore\n",
        "  Fx = dx / den\n",
        "  Fy = dy / den\n",
        "\n",
        "  # Calcola la derivata orizzontale di Fx \n",
        "  dFdx = np.gradient(Fx, axis=0)\n",
        "  \n",
        "  # Calcola la derivata verticale di Fy\n",
        "  dFdy = np.gradient(Fy, axis=1)\n",
        "\n",
        "  # Calcola la divergenza \n",
        "  div = (dFdx + dFdy)\n",
        "\n",
        "  # Restituisci il valore del gradiente della variazione totale\n",
        "  return -div"
      ]
    },
    {
      "cell_type": "code",
      "execution_count": null,
      "metadata": {
        "id": "Ffuge6yfhIMh"
      },
      "outputs": [],
      "source": [
        "def f_tv(x, B, labda):\n",
        "  X = x.reshape(m,n)\n",
        "  res = 0.5*(np.linalg.norm(A(X, K)-B))**2 + labda*totvar(X)\n",
        "  return np.sum(res)\n",
        "def df_tv(x, B, labda):\n",
        "  X = x.reshape(m,n)\n",
        "  res = AT(A(X, K)-B, K) + labda*grad_totvar(X)\n",
        "  RES = np.reshape(res, m*n)\n",
        "  return RES\n",
        "def next_step_tv(x,grad, B, labda): # backtracking procedure for the choice of the steplength\n",
        "  alpha=1.1\n",
        "  c1 = 0.25\n",
        "  p=-grad\n",
        "  j=0\n",
        "  jmax=10\n",
        "  #condizioni che servono per soddisfare dei criteri di convergenza - condizioni di Wolfe\n",
        "  while ((f_tv(x + alpha*p, B, labda) > f_tv(x, B, labda)+c1*alpha*grad.T@p) and j<jmax):\n",
        "    alpha= alpha*0.5\n",
        "    j+=1\n",
        "  return alpha\n",
        "def gradient_minimize_tv(B, labda, maxit=30, abstop = 1.e-6):\n",
        "  x_last = x0=np.zeros(m*n)\n",
        "  k = 0\n",
        "  while (np.linalg.norm(df_tv(x_last, B, labda))>abstop and k < maxit):\n",
        "    k=k+1\n",
        "    grad = df_tv(x_last, B, labda)\n",
        "    step = next_step_tv(x_last, grad, B, labda)\n",
        "    x_last=x_last-step*grad\n",
        "  return x_last"
      ]
    },
    {
      "cell_type": "code",
      "execution_count": null,
      "metadata": {},
      "outputs": [],
      "source": [
        "\n",
        "labda = list(np.linspace(0.00001, 0.5, 50))\n",
        "immaginiCorrotteLista = [B, ZB] #le immagini corrotte sono quelle del tipo X_blur + noise\n",
        "immaginiPuliteLista = [X, Z] #sono le immagini pulite\n",
        "\n",
        "#per ogni immagine\n",
        "listaPSNR_B = []\n",
        "listaMSE_B = []\n",
        "listaERRREL_B = []\n",
        "\n",
        "listaPSNR_ZB = []\n",
        "listaMSE_ZB = []\n",
        "listaERRREL_ZB = []\n",
        "\n",
        "for j in range(len(immaginiCorrotteLista)):\n",
        "  for i in range(50): #ho messo 10 per fare prima. mettere 50 (numero di lambda) durante relazione\n",
        "    ricostruzione_tv = gradient_minimize_tv(immaginiCorrotteLista[j], labda[i])\n",
        "    RICOSTRUZIONE_tv = ricostruzione_tv.reshape(m,n) #per convenzione abbiamo usato che le variabili in minuscolo sono vettori di dimensione m*n mentre le variabili in MAIUSCOLO sono MATRICI di dimensione (m,n)\n",
        "    PSNR = metrics.peak_signal_noise_ratio(immaginiPuliteLista[j], RICOSTRUZIONE_tv) #primo argomento immagine pulita, secondo argomento l'immagine ricostruita col metodo che stiamo utilizzando attualmente\n",
        "    MSE = metrics.mean_squared_error(immaginiPuliteLista[j], RICOSTRUZIONE_tv)\n",
        "    erroreRelativo = np.linalg.norm(RICOSTRUZIONE_tv - immaginiPuliteLista[j], 'fro')/np.linalg.norm(immaginiPuliteLista[j], 'fro') #errore relativo in norma di frobenius. Gli altri progetto mi ricordo che utilizzavano questa\n",
        "\n",
        "    #per ogni immagine\n",
        "    if (immaginiCorrotteLista[j] is B):\n",
        "      listaPSNR_B.append(PSNR)\n",
        "      listaMSE_B.append(MSE)\n",
        "      listaERRREL_B.append(erroreRelativo)\n",
        "      print(f'sto analizzando immagine B. lambda: {labda[i]} PSNR: {PSNR:.2f} MSE: {MSE} Errore relativo: {erroreRelativo}')\n",
        "    \n",
        "    #per tutte le immagini. L'importante non è divertirsi ma il meschino voto/risultato\n",
        "    elif immaginiCorrotteLista[j] is ZB:\n",
        "      listaPSNR_ZB.append(PSNR)\n",
        "      listaMSE_ZB.append(MSE)\n",
        "      listaERRREL_ZB.append(erroreRelativo)\n",
        "      print(f'sto analizzando immagine ZB. lambda: {labda[i]} PSNR: {PSNR:.2f} MSE: {MSE} Errore relativo: {erroreRelativo}')\n",
        "\n",
        "\n",
        "#dopo che ho ottenuto le mie liste sono pronto a plottare (sempre per ogni immagine)\n",
        "for j in range(len(immaginiCorrotteLista)):\n",
        "  #per ogni immagine\n",
        "  if (immaginiCorrotteLista[j] is B): \n",
        "    plt.suptitle(\"STO ANALIZZANDO RICOSTRUZIONE RIGUARDO X (B ERA LA SUA CORROTTA\")\n",
        "    plt.figure(figsize=(30,10))\n",
        "    plt.subplot(1,3,1)\n",
        "    plt.plot(labda, listaPSNR_B, 'r', color=\"blue\") #r di retta, togliere il  durante relazione messo per fare prima test\n",
        "    plt.legend(\"PSNR\", \"MSE\") #accetta al massimo due\n",
        "    plt.subplot(1,3,2)\n",
        "    plt.plot(labda, listaMSE_B) \n",
        "    plt.legend(\"MSE\")\n",
        "    plt.subplot(1,3,3)\n",
        "    plt.plot(labda, listaERRREL_B) \n",
        "    plt.legend(\"ERRORE RELATIVO\")\n",
        "    plt.show()\n",
        "  \n",
        "  elif immaginiCorrotteLista[j] is ZB:\n",
        "    plt.suptitle(\"STO ANALIZZANDO RICOSTRUZIONE RIGUARDO Z (ZB ERA LA SUA CORROTTA\")\n",
        "    plt.figure(figsize=(30,10))\n",
        "    plt.subplot(1,3,1)\n",
        "    plt.plot(labda, listaPSNR_ZB) \n",
        "    plt.legend(\"PSNR\")\n",
        "    plt.subplot(1,3,2)\n",
        "    plt.plot(labda, listaMSE_ZB) \n",
        "    plt.legend(\"MSE\")\n",
        "    plt.subplot(1,3,3)\n",
        "    plt.plot(labda, listaERRREL_ZB) \n",
        "    plt.legend(\"ERRORE RELATIVO\")\n",
        "    plt.show()\n"
      ]
    },
    {
      "cell_type": "code",
      "execution_count": null,
      "metadata": {},
      "outputs": [],
      "source": [
        "#! stampa immagini geometriche ripristinate ?\n",
        "alp=0\n",
        "labda = list(np.linspace(0.00001, 0.5, 50))\n",
        "while alp<len(alfabetoblur):\n",
        "  for i in range(10):                 #! risettare il range a 50, ho messo 10 per fare prima, ci metteva troppo tempo\n",
        "    z_tv = gradient_minimize_tv(alfabetoblur[alp], labda[i])\n",
        "    PSNR = metrics.peak_signal_noise_ratio(alfabeto[alp], z_tv.reshape(m,n))\n",
        "    #print(f'lambda: {labda[i]} PSNR: {PSNR:.2f}')\n",
        "    plt.figure(figsize=(30,10))\n",
        "    plt.subplot(9,10,i+1).imshow(z_tv.reshape(m,n), cmap=\"gray\")\n",
        "    plt.title(f'Ripristinata con metodo gradiente (PSNR: {PSNR:.2f})')\n",
        "  alp+=1"
      ]
    },
    {
      "cell_type": "markdown",
      "metadata": {
        "id": "cESG-s9Kfbul"
      },
      "source": [
        "# Relazione\n",
        "\n",
        "1.   Riportare e commentare i risultati ottenuti nei punti 2. 3. (e 4.) su un immagine del set creato e su altre due immagini in bianco e nero  (fotografiche/mediche/astronomiche)\n",
        "2.   Riportare delle tabelle con le misure di PSNR e MSE ottenute al variare dei parametri (dimensione kernel, valore di sigma, la deviazione standard del rumore, il parametro di regolarizzazione). \n",
        "3. Calcolare sull’intero set di immagini medie e deviazione standard delle metriche per alcuni valori fissati dei parametri.  \n",
        "4. Analizzare su 2 esecuzioni le proprietà dei metodi numerici utilizzati (gradiente coniugato e gradiente) in termini di numero di iterazioni, andamento dell’errore, della funzione obiettivo, norma del gradiente. \n",
        "\n"
      ]
    }
  ],
  "metadata": {
    "colab": {
      "collapsed_sections": [],
      "include_colab_link": true,
      "name": "Matteo Manuelli 0000991861.ipynb",
      "provenance": []
    },
    "kernelspec": {
      "display_name": "Python 3",
      "name": "python3"
    },
    "language_info": {
      "codemirror_mode": {
        "name": "ipython",
        "version": 3
      },
      "file_extension": ".py",
      "mimetype": "text/x-python",
      "name": "python",
      "nbconvert_exporter": "python",
      "pygments_lexer": "ipython3",
      "version": "3.10.0"
    }
  },
  "nbformat": 4,
  "nbformat_minor": 0
}
